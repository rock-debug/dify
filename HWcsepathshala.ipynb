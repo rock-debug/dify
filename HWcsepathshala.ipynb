{
  "nbformat": 4,
  "nbformat_minor": 0,
  "metadata": {
    "colab": {
      "provenance": [],
      "authorship_tag": "ABX9TyN/BazispgizE5JXXYPx+5M",
      "include_colab_link": true
    },
    "kernelspec": {
      "name": "python3",
      "display_name": "Python 3"
    },
    "language_info": {
      "name": "python"
    }
  },
  "cells": [
    {
      "cell_type": "markdown",
      "metadata": {
        "id": "view-in-github",
        "colab_type": "text"
      },
      "source": [
        "<a href=\"https://colab.research.google.com/github/rock-debug/dify/blob/main/HWcsepathshala.ipynb\" target=\"_parent\"><img src=\"https://colab.research.google.com/assets/colab-badge.svg\" alt=\"Open In Colab\"/></a>"
      ]
    },
    {
      "cell_type": "markdown",
      "source": [
        "TYPE CASTING"
      ],
      "metadata": {
        "id": "Whnd2xnq74a3"
      }
    },
    {
      "cell_type": "code",
      "source": [
        "Dict2={1:\"Python\",\"pages\":200}\n",
        "list1=[\"python\",\"maths\",\"physics\",\"pes\",\"mechanical graphics\"]\n",
        "print(list1)\n",
        "list1[3]=\"softskills\"\n",
        "print(list1)\n",
        "print(type(list1))\n",
        "tup=(20,5.6,list1)\n",
        "print(tup)\n",
        "print(type(tup))\n",
        "set={list1[1],\"coding\",230}\n",
        "print(set)\n",
        "print(type(set))\n",
        "print(Dict2)\n",
        "print(type(Dict2))"
      ],
      "metadata": {
        "colab": {
          "base_uri": "https://localhost:8080/"
        },
        "id": "TrYuD1m97_Si",
        "outputId": "e90deeec-6382-4fec-9e05-2b89b08b3edd"
      },
      "execution_count": null,
      "outputs": [
        {
          "output_type": "stream",
          "name": "stdout",
          "text": [
            "['python', 'maths', 'physics', 'pes', 'mechanical graphics']\n",
            "['python', 'maths', 'physics', 'softskills', 'mechanical graphics']\n",
            "<class 'list'>\n",
            "(20, 5.6, ['python', 'maths', 'physics', 'softskills', 'mechanical graphics'])\n",
            "<class 'tuple'>\n",
            "{'coding', 'maths', 230}\n",
            "<class 'set'>\n",
            "{1: 'Python', 'pages': 200}\n",
            "<class 'dict'>\n"
          ]
        }
      ]
    },
    {
      "cell_type": "code",
      "source": [
        "a= 50\n",
        "b=9.45\n",
        "c=\"india\"\n",
        "A=5\n",
        "B=5.5\n",
        "C=5+2j\n",
        "n=[5,90.45,\"india\"]\n",
        "print(type(a))\n",
        "print(type(b))\n",
        "print(type(c))\n",
        "print(type(n))\n",
        "print(type(A))\n",
        "print(type(B))\n",
        "print(type(C))\n"
      ],
      "metadata": {
        "colab": {
          "base_uri": "https://localhost:8080/"
        },
        "id": "molhLT-Z8SUE",
        "outputId": "9b093565-9249-4bed-f925-8158a768cb90"
      },
      "execution_count": null,
      "outputs": [
        {
          "output_type": "stream",
          "name": "stdout",
          "text": [
            "<class 'int'>\n",
            "<class 'float'>\n",
            "<class 'str'>\n",
            "<class 'list'>\n",
            "<class 'int'>\n",
            "<class 'float'>\n",
            "<class 'complex'>\n"
          ]
        }
      ]
    },
    {
      "cell_type": "markdown",
      "source": [
        "IF ELSE"
      ],
      "metadata": {
        "id": "BuZQAoAO9mu1"
      }
    },
    {
      "cell_type": "code",
      "source": [
        "#GREATEST NO IN 3\n",
        "a=int(input(\"First Number:\" ))\n",
        "b=int(input(\"Second Number:\"))\n",
        "c=int(input(\"Third number:\"))\n",
        "if(a>b and a>c):\n",
        "    print(\"%d is greatest\"%(a))\n",
        "if(b>a and b>c):\n",
        "    print(\"%d is greatest\"%(b))\n",
        "if(c>a and c>b):\n",
        "    print(\"%c is greatest\"%(c))\n",
        "else:\n",
        "    print(\"two or more values are equal\")\n"
      ],
      "metadata": {
        "id": "ktt56s7d9pni"
      },
      "execution_count": null,
      "outputs": []
    },
    {
      "cell_type": "code",
      "source": [
        "#GRADE/DISTINCTION OF A STUDENT\n",
        "m=int(input(\"Enter marks\"))\n",
        "\n",
        "if(m<100 and m>=90):\n",
        "    print(\"First\")\n",
        "elif(m<100 and m>=80):\n",
        "    print(\"Second\")\n",
        "elif(m<100 and m>=60):\n",
        "    print(\"Third\")\n",
        "else:\n",
        "    print(\"Fail\")"
      ],
      "metadata": {
        "id": "qWLnEs0cCXyU",
        "colab": {
          "base_uri": "https://localhost:8080/"
        },
        "outputId": "4db61c51-e5f4-408f-fa6e-d36af1b5b299"
      },
      "execution_count": null,
      "outputs": [
        {
          "output_type": "stream",
          "name": "stdout",
          "text": [
            "Enter marks89\n",
            "Second\n"
          ]
        }
      ]
    },
    {
      "cell_type": "markdown",
      "source": [
        "TUPLES"
      ],
      "metadata": {
        "id": "GpDb59cMCndi"
      }
    },
    {
      "cell_type": "code",
      "source": [
        "#tuple of a number abd its cube\n",
        "l=[]\n",
        "l1=[]\n",
        "c=int(input())\n",
        "b=c**3\n",
        "l1.append(c)\n",
        "l1.append(b)\n",
        "print(tuple(l1))"
      ],
      "metadata": {
        "id": "ltbQtCToCkpZ",
        "colab": {
          "base_uri": "https://localhost:8080/"
        },
        "outputId": "2ded5f6d-ca20-4a1a-c7f5-9be5e8d52aa7"
      },
      "execution_count": null,
      "outputs": [
        {
          "output_type": "stream",
          "name": "stdout",
          "text": [
            "5\n",
            "(5, 125)\n"
          ]
        }
      ]
    },
    {
      "cell_type": "code",
      "source": [
        "#tuple of a number and its multiples"
      ],
      "metadata": {
        "id": "S9fPI7FBC51P"
      },
      "execution_count": null,
      "outputs": []
    },
    {
      "cell_type": "code",
      "source": [
        "l=[]\n",
        "l1=[]\n",
        "c=int(input())\n",
        "l1.append(c)\n",
        "for i in range(2,10):\n",
        "  l1.append(c*i)\n",
        "print(tuple(l1))\n"
      ],
      "metadata": {
        "colab": {
          "base_uri": "https://localhost:8080/"
        },
        "id": "y9DOV__tPTRt",
        "outputId": "6d1c5775-4716-464a-d6cf-ee63ed2478f6"
      },
      "execution_count": 5,
      "outputs": [
        {
          "output_type": "stream",
          "name": "stdout",
          "text": [
            "5\n",
            "(5, 10, 15, 20, 25, 30, 35, 40, 45)\n"
          ]
        }
      ]
    },
    {
      "cell_type": "markdown",
      "source": [
        "DICT"
      ],
      "metadata": {
        "id": "W2H-BMzHC6_j"
      }
    },
    {
      "cell_type": "code",
      "source": [
        "#CREATE DICT\n",
        "data1=input(\"data1: \").split(\" \")\n",
        "data2=input(\"data2: \").split(\" \")\n",
        "\n",
        "dict2=dict(zip(data1,data2))\n",
        "\n",
        "print(dict2,type(dict2))\n",
        "print(dict2)"
      ],
      "metadata": {
        "id": "_F0zIB7vC7_W",
        "colab": {
          "base_uri": "https://localhost:8080/"
        },
        "outputId": "2c6c095d-91de-429d-a548-1db6f1fd7bac"
      },
      "execution_count": null,
      "outputs": [
        {
          "output_type": "stream",
          "name": "stdout",
          "text": [
            "data1: 1 2 3 4 5 6  7\n",
            "data2: a b c d e f g \n",
            "{'1': 'a', '2': 'b', '3': 'c', '4': 'd', '5': 'e', '6': 'f', '': 'g', '7': ''} <class 'dict'>\n",
            "{'1': 'a', '2': 'b', '3': 'c', '4': 'd', '5': 'e', '6': 'f', '': 'g', '7': ''}\n"
          ]
        }
      ]
    },
    {
      "cell_type": "code",
      "source": [
        "dict1={\"name\":\"python\", \"age\":5,\"address\":\"jal\"}\n",
        "print(\"dictionary\",dict1)\n",
        "print(\"name is\",dict1[\"name\"])\n",
        "print(\"age is\",dict1[\"age\"])"
      ],
      "metadata": {
        "id": "zHpVUTWuC8LE",
        "colab": {
          "base_uri": "https://localhost:8080/"
        },
        "outputId": "c4589541-a5c2-4bde-de98-814e8553748f"
      },
      "execution_count": null,
      "outputs": [
        {
          "output_type": "stream",
          "name": "stdout",
          "text": [
            "dictionary {'name': 'python', 'age': 5, 'address': 'jal'}\n",
            "name is python\n"
          ]
        }
      ]
    },
    {
      "cell_type": "markdown",
      "source": [
        "STRINGS"
      ],
      "metadata": {
        "id": "BLJuTU1nFzAH"
      }
    },
    {
      "cell_type": "code",
      "source": [
        "#RIGHT ANGLE TRIANGLE\n",
        "n=int(input(\"n:\"))\n",
        "for i in range(1,n+1):\n",
        "    for j in range(1,i+1):\n",
        "        print(\"*\",end='')\n",
        "    print()"
      ],
      "metadata": {
        "colab": {
          "base_uri": "https://localhost:8080/"
        },
        "id": "e7uOblhiF2Rc",
        "outputId": "17c40ea7-a7ef-4ab3-d92b-78ae47ecdb1e"
      },
      "execution_count": null,
      "outputs": [
        {
          "output_type": "stream",
          "name": "stdout",
          "text": [
            "n:7\n",
            "*\n",
            "**\n",
            "***\n",
            "****\n",
            "*****\n",
            "******\n",
            "*******\n"
          ]
        }
      ]
    },
    {
      "cell_type": "code",
      "source": [
        "#REVERSE TRIANGLE\n",
        "n=int(input(\"n:\"))\n",
        "for i in range(1,n+1):\n",
        "    for j in range(1,n-i+1):\n",
        "        print(\" \",end='')\n",
        "    for j in range(n-i+1,n+1):\n",
        "        print(\"*\",end='')\n",
        "    print()"
      ],
      "metadata": {
        "colab": {
          "base_uri": "https://localhost:8080/"
        },
        "id": "ZnP141KAGiJK",
        "outputId": "9b595289-aed4-4f0a-bb33-4dc831c94ae7"
      },
      "execution_count": null,
      "outputs": [
        {
          "output_type": "stream",
          "name": "stdout",
          "text": [
            "n:5\n",
            "    *\n",
            "   **\n",
            "  ***\n",
            " ****\n",
            "*****\n"
          ]
        }
      ]
    },
    {
      "cell_type": "markdown",
      "source": [
        "FOR LOOP"
      ],
      "metadata": {
        "id": "h6oKjchUGodE"
      }
    },
    {
      "cell_type": "code",
      "source": [
        "n=int(input(\"n:\"))\n",
        "for i in range(1,n+1):\n",
        "    for j in range(1,i+1):\n",
        "        print(j,end='')\n",
        "    print()"
      ],
      "metadata": {
        "colab": {
          "base_uri": "https://localhost:8080/"
        },
        "id": "SVPIt6zXGTlw",
        "outputId": "6cb1a857-85fb-45d0-becc-f14ec1f618c8"
      },
      "execution_count": null,
      "outputs": [
        {
          "output_type": "stream",
          "name": "stdout",
          "text": [
            "n:7\n",
            "1\n",
            "12\n",
            "123\n",
            "1234\n",
            "12345\n",
            "123456\n",
            "1234567\n"
          ]
        }
      ]
    },
    {
      "cell_type": "code",
      "source": [
        "#PRIME NO\n",
        "n=int(input(\"enter no:\"))\n",
        "\n",
        "for i in range(2,n):\n",
        "    if(n%i==0):\n",
        "        print(\"not a prime number\")\n",
        "        break\n",
        "else:\n",
        "    print(\"prime no\")"
      ],
      "metadata": {
        "colab": {
          "base_uri": "https://localhost:8080/"
        },
        "id": "c5dcNCDjGt-C",
        "outputId": "c7238fd7-eeac-4bcf-aa6e-b54d080e49ec"
      },
      "execution_count": null,
      "outputs": [
        {
          "output_type": "stream",
          "name": "stdout",
          "text": [
            "enter no:13\n",
            "prime no\n"
          ]
        }
      ]
    },
    {
      "cell_type": "markdown",
      "source": [
        "WHILE"
      ],
      "metadata": {
        "id": "-ptBjHi8HQyJ"
      }
    },
    {
      "cell_type": "code",
      "source": [
        "#TABLES TILL 10\n",
        "a=(input(\"enter no\"))\n",
        "if(a.isdigit()):\n",
        "    a=int(a)\n",
        "    count=1\n",
        "    while(count<11):\n",
        "        print(a,\"*\",count,\"=\",a*count)\n",
        "        count=count+1\n",
        "\n",
        "else:\n",
        "    print(\"Enter a number\")"
      ],
      "metadata": {
        "colab": {
          "base_uri": "https://localhost:8080/"
        },
        "id": "WgvI_AD-94Hs",
        "outputId": "4dae9ab4-9ccd-4512-ccb8-07fe10cfa843"
      },
      "execution_count": null,
      "outputs": [
        {
          "output_type": "stream",
          "name": "stdout",
          "text": [
            "enter noa\n",
            "Enter a number\n"
          ]
        }
      ]
    },
    {
      "cell_type": "code",
      "source": [
        "n=int(input(\"n\"))\n",
        "m=int(input(\"m\"))\n",
        "\n",
        "while n%m!=0:\n",
        "    temp=m\n",
        "    temp2=n\n",
        "    n=m\n",
        "    m=temp2%temp\n",
        "\n",
        "else:\n",
        "    print(m,\"is GCD\")"
      ],
      "metadata": {
        "colab": {
          "base_uri": "https://localhost:8080/"
        },
        "id": "Jhh5RctxHTMV",
        "outputId": "09f60818-e9a2-415e-88df-c3623bdf653a"
      },
      "execution_count": null,
      "outputs": [
        {
          "output_type": "stream",
          "name": "stdout",
          "text": [
            "n23\n",
            "m1\n",
            "1 is GCD\n"
          ]
        }
      ]
    },
    {
      "cell_type": "markdown",
      "source": [
        "FUNCTIONS"
      ],
      "metadata": {
        "id": "jP1USz1cH9yY"
      }
    },
    {
      "cell_type": "code",
      "source": [
        "def fib(x):\n",
        "\n",
        "    if x==0:\n",
        "        return 0\n",
        "    if x==1:\n",
        "        return 1\n",
        "    else:\n",
        "        return fib(x-1)+fib(x-2)\n",
        "\n",
        "i=int(input(\"No:\"))\n",
        "print(fib(i))\n"
      ],
      "metadata": {
        "colab": {
          "base_uri": "https://localhost:8080/"
        },
        "id": "dkQffQWIH_bH",
        "outputId": "bb2c0f3f-53a4-4666-ef15-bed845c0b5fe"
      },
      "execution_count": null,
      "outputs": [
        {
          "output_type": "stream",
          "name": "stdout",
          "text": [
            "No:11\n",
            "89\n"
          ]
        }
      ]
    },
    {
      "cell_type": "code",
      "source": [
        "def add(x,y):\n",
        "    x=x+y\n",
        "    return(x)\n",
        "\n",
        "a=int(input(\"a:\"))\n",
        "b=int(input(\"b:\"))\n",
        "print(\"a before add:\",a)\n",
        "c=add(a,b)\n",
        "print(\"a after add:\",c)"
      ],
      "metadata": {
        "colab": {
          "base_uri": "https://localhost:8080/"
        },
        "id": "xPU6Lpo8JW4Q",
        "outputId": "d955560a-cdb9-4939-ce1f-73e859163fe7"
      },
      "execution_count": null,
      "outputs": [
        {
          "output_type": "stream",
          "name": "stdout",
          "text": [
            "a:5\n",
            "b:4\n",
            "a before add: 5\n",
            "a after add: 9\n"
          ]
        }
      ]
    },
    {
      "cell_type": "code",
      "source": [],
      "metadata": {
        "id": "e-tIlrM8JV6G"
      },
      "execution_count": null,
      "outputs": []
    }
  ]
}